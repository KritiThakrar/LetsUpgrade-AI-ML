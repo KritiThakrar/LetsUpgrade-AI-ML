{
 "cells": [
  {
   "cell_type": "markdown",
   "metadata": {},
   "source": [
    "# Question 1"
   ]
  },
  {
   "cell_type": "markdown",
   "metadata": {},
   "source": [
    "*To find the first 20 non even prime numbers*"
   ]
  },
  {
   "cell_type": "code",
   "execution_count": null,
   "metadata": {},
   "outputs": [],
   "source": [
    "print(\"The First 20 Non even prime natural no. is \")\n",
    "r=[]\n",
    "for i in range(3,21):\n",
    "    for j in range(3,i): \n",
    "        if j % i == 0:\n",
    "            break\n",
    "    else:\n",
    "        r.append(i)    \n",
    "print(r)"
   ]
  },
  {
   "cell_type": "markdown",
   "metadata": {},
   "source": [
    "# Question 2"
   ]
  },
  {
   "cell_type": "code",
   "execution_count": 1,
   "metadata": {},
   "outputs": [
    {
     "name": "stdout",
     "output_type": "stream",
     "text": [
      "Old String:  HAVE a Nice day\n",
      "Capitalized String: Have a nice day\n",
      "Centered String:                   HAVE a Nice day                  \n",
      "Lowercase string: python is interesting\n",
      "The count is: 2\n",
      "The string is: pythön!\n",
      "The encoded version is: b'pyth\\xc3\\xb6n!'\n",
      "THIS SHOULD BE UPPERCASE!\n",
      "hello everyone\n",
      "['Love', 'the', 'Python']\n",
      "this should all be lowercase.\n",
      "THIS SHOULD ALL BE UPPERCASE.\n",
      "tHiS sHoUlD bE mIxEd CaSeD.\n"
     ]
    }
   ],
   "source": [
    "string = \"HAVE a Nice day\"\n",
    "#The capitalize() function returns a string with first letter capitalized and all other characters lowercased. It doesn't modify the original string.\n",
    "capitalized_string = string.capitalize()\n",
    "print('Old String: ', string)\n",
    "print('Capitalized String:', capitalized_string)\n",
    "#The center() method returns a string which is padded with the specified character.\n",
    "new_string = string.center(50)\n",
    "print(\"Centered String: \", new_string)\n",
    "#The casefold() method is an aggressive lower() method which converts strings to case folded strings for caseless matching.\n",
    "string1 = \"PYTHON IS INTERESTING\"\n",
    "# print lowercase string\n",
    "print(\"Lowercase string:\", string1.casefold())\n",
    "#The string count() method returns the number of occurrences of a substring in the given string.\n",
    "string2 = \"Python is interesting, isn't it interesting ?\"\n",
    "substring = \"interesting\"\n",
    "count = string2.count(substring)\n",
    "# print count\n",
    "print(\"The count is:\", count)\n",
    "#The string encode() method returns encoded version of the given string.\n",
    "# unicode string\n",
    "string3 = 'pythön!'\n",
    "# print string\n",
    "print('The string is:', string3)\n",
    "# default encoding to utf-8\n",
    "string_en= string3.encode()\n",
    "# print result\n",
    "print('The encoded version is:', string_en)\n",
    "#The string upper() method converts all lowercase characters in a string into uppercase characters and returns it.\n",
    "string4= \"this should be uppercase!\"\n",
    "print(string4.upper())\n",
    "#The string lower() method converts all uppercase characters in a string into lowercase characters and returns it.\n",
    "string5 = \"HELLO EVERYONE\"\n",
    "print(string5.lower())\n",
    "#The split() method breaks up a string at the specified separator and returns a list of strings.\n",
    "text= 'Love the Python'\n",
    "# splits at space\n",
    "print(text.split())\n",
    "#The string swapcase() method converts all uppercase characters to lowercase and all lowercase characters to uppercase characters of the given string, and returns it.\n",
    "string6 = \"THIS SHOULD ALL BE LOWERCASE.\"\n",
    "print(string6.swapcase())\n",
    "string7 = \"this should all be uppercase.\"\n",
    "print(string7.swapcase())\n",
    "string8 = \"ThIs ShOuLd Be MiXeD cAsEd.\"\n",
    "print(string8.swapcase())"
   ]
  },
  {
   "cell_type": "markdown",
   "metadata": {},
   "source": [
    "# Question 3"
   ]
  },
  {
   "cell_type": "code",
   "execution_count": 9,
   "metadata": {},
   "outputs": [
    {
     "name": "stdout",
     "output_type": "stream",
     "text": [
      "Enter the 1st string add\n",
      "Enter the 2nd string dad\n",
      "The given strings are anagram\n"
     ]
    }
   ],
   "source": [
    "def palindromeOrAnagram(s1,s2):\n",
    "    if s1 == s2 or sorted(s1)==sorted(s2):\n",
    "        if sorted(s1)==sorted(s1):\n",
    "            print(\"The given strings are anagram\")\n",
    "        if s1 == s2 or s1 == s2[:-1]:\n",
    "            print(\"The given strings are palindrome\")\n",
    "    else:\n",
    "        print(\"The given strings are neither palindrome nor anagram\")\n",
    "\n",
    "string_1=input(\"Enter the 1st string \")\n",
    "string_2=input(\"Enter the 2nd string \")\n",
    "palindromeOrAnagram(string_1,string_2)"
   ]
  },
  {
   "cell_type": "markdown",
   "metadata": {},
   "source": [
    "# Question 4"
   ]
  },
  {
   "cell_type": "code",
   "execution_count": 3,
   "metadata": {},
   "outputs": [
    {
     "name": "stdout",
     "output_type": "stream",
     "text": [
      "Enter the string Dr.Darshan Ingle\n",
      "Converted string is  drdarshaningle"
     ]
    }
   ],
   "source": [
    "def fun(s):\n",
    "    print(\"Converted string is \",end=\" \")\n",
    "    for i in s:\n",
    "        if i.isalnum():\n",
    "            print(i.lower(),end=\"\")\n",
    "s=input(\"Enter the string \")\n",
    "fun(s)"
   ]
  }
 ],
 "metadata": {
  "kernelspec": {
   "display_name": "Python 3",
   "language": "python",
   "name": "python3"
  },
  "language_info": {
   "codemirror_mode": {
    "name": "ipython",
    "version": 3
   },
   "file_extension": ".py",
   "mimetype": "text/x-python",
   "name": "python",
   "nbconvert_exporter": "python",
   "pygments_lexer": "ipython3",
   "version": "3.8.3"
  }
 },
 "nbformat": 4,
 "nbformat_minor": 4
}
